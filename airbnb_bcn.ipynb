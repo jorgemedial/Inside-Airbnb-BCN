{
 "cells": [
  {
   "cell_type": "markdown",
   "metadata": {},
   "source": [
    "# Barcelona Airbnb 2021"
   ]
  },
  {
   "cell_type": "markdown",
   "metadata": {},
   "source": [
    "## Section 1: Business Understanding\n",
    "\n",
    "This project intends to evaluate the effect of the Covid19 pandemic on [Airbnb hosting prices](http://insideairbnb.com/get-the-data.html) in the city of Barcelona. We use the number of reviews as a metric for the number of tourists in the city and the number of positive cases for the prevalence of [Covid19](https://cnecovid.isciii.es/covid19/#documentaci%C3%B3n-y-datos) in the region of Catalonia.\n",
    "\n",
    "\n",
    "\n",
    "### Question 1: What was the impact of the pandemic on Airbnb accommodation from the second outbreak onwards?\n",
    "### Question 2: How did hosts react to the ever-changing circumstances?\n",
    "### Question 3: Which are the key success factors to attract guests in this situation?\n",
    "\n",
    "\n",
    "Sources: [Inside Airbnb](http://insideairbnb.com/get-the-data.html), [Covid19](https://cnecovid.isciii.es/covid19/#documentaci%C3%B3n-y-datos)\n"
   ]
  },
  {
   "cell_type": "code",
   "execution_count": 1,
   "metadata": {},
   "outputs": [
    {
     "name": "stderr",
     "output_type": "stream",
     "text": [
      "In /home/jorge/.local/lib/python3.6/site-packages/matplotlib/mpl-data/stylelib/_classic_test.mplstyle: \n",
      "The text.latex.preview rcparam was deprecated in Matplotlib 3.3 and will be removed two minor releases later.\n",
      "In /home/jorge/.local/lib/python3.6/site-packages/matplotlib/mpl-data/stylelib/_classic_test.mplstyle: \n",
      "The mathtext.fallback_to_cm rcparam was deprecated in Matplotlib 3.3 and will be removed two minor releases later.\n",
      "In /home/jorge/.local/lib/python3.6/site-packages/matplotlib/mpl-data/stylelib/_classic_test.mplstyle: Support for setting the 'mathtext.fallback_to_cm' rcParam is deprecated since 3.3 and will be removed two minor releases later; use 'mathtext.fallback : 'cm' instead.\n",
      "In /home/jorge/.local/lib/python3.6/site-packages/matplotlib/mpl-data/stylelib/_classic_test.mplstyle: \n",
      "The validate_bool_maybe_none function was deprecated in Matplotlib 3.3 and will be removed two minor releases later.\n",
      "In /home/jorge/.local/lib/python3.6/site-packages/matplotlib/mpl-data/stylelib/_classic_test.mplstyle: \n",
      "The savefig.jpeg_quality rcparam was deprecated in Matplotlib 3.3 and will be removed two minor releases later.\n",
      "In /home/jorge/.local/lib/python3.6/site-packages/matplotlib/mpl-data/stylelib/_classic_test.mplstyle: \n",
      "The keymap.all_axes rcparam was deprecated in Matplotlib 3.3 and will be removed two minor releases later.\n",
      "In /home/jorge/.local/lib/python3.6/site-packages/matplotlib/mpl-data/stylelib/_classic_test.mplstyle: \n",
      "The animation.avconv_path rcparam was deprecated in Matplotlib 3.3 and will be removed two minor releases later.\n",
      "In /home/jorge/.local/lib/python3.6/site-packages/matplotlib/mpl-data/stylelib/_classic_test.mplstyle: \n",
      "The animation.avconv_args rcparam was deprecated in Matplotlib 3.3 and will be removed two minor releases later.\n"
     ]
    }
   ],
   "source": [
    "import numpy as np\n",
    "import pandas as pd\n",
    "import matplotlib\n",
    "import matplotlib.pyplot as plt\n",
    "import datetime\n",
    "import seaborn as sns\n",
    "from sklearn.preprocessing import OrdinalEncoder\n",
    "from sklearn.linear_model import LinearRegression\n",
    "from sklearn.linear_model import LogisticRegression\n",
    "from sklearn.model_selection import train_test_split\n",
    "from sklearn.preprocessing import MinMaxScaler\n",
    "from sklearn import metrics\n",
    "from sklearn.ensemble import RandomForestClassifier\n",
    "%matplotlib inline"
   ]
  },
  {
   "cell_type": "code",
   "execution_count": 2,
   "metadata": {},
   "outputs": [],
   "source": [
    "#Fetching data. From the Airbnb source, we create a dataset dictionary with an entry for each month\n",
    "raw_df_dict = {'aug': pd.read_csv('./listings_aug20.csv'),\n",
    "               'sep': pd.read_csv('./listings_sept20.csv'),\n",
    "               'oct': pd.read_csv('./listings_oct20.csv'),\n",
    "               'nov': pd.read_csv('./listings_nov20.csv'),\n",
    "               'dec': pd.read_csv('./listings_dec20.csv'),\n",
    "               'jan': pd.read_csv('./listings_jan21.csv'),\n",
    "               'feb': pd.read_csv('./listings_feb21.csv'),\n",
    "               'mar': pd.read_csv('./listings_mar21.csv'),\n",
    "               'apr': pd.read_csv('./listings_apr21.csv')      \n",
    "               }\n",
    "\n",
    "months = raw_df_dict.keys()\n",
    "for month in months:\n",
    "    raw_df_dict[month].set_index('id')"
   ]
  },
  {
   "cell_type": "markdown",
   "metadata": {},
   "source": [
    "# Data Exploration\n",
    "\n",
    "For the data exploration, only one dataset will be used since all of them share the same columns and have similar number of entries. Therefore, all of them will be processed equally"
   ]
  },
  {
   "cell_type": "code",
   "execution_count": 3,
   "metadata": {},
   "outputs": [
    {
     "data": {
      "text/plain": [
       "Index(['id', 'listing_url', 'scrape_id', 'last_scraped', 'name', 'description',\n",
       "       'neighborhood_overview', 'picture_url', 'host_id', 'host_url',\n",
       "       'host_name', 'host_since', 'host_location', 'host_about',\n",
       "       'host_response_time', 'host_response_rate', 'host_acceptance_rate',\n",
       "       'host_is_superhost', 'host_thumbnail_url', 'host_picture_url',\n",
       "       'host_neighbourhood', 'host_listings_count',\n",
       "       'host_total_listings_count', 'host_verifications',\n",
       "       'host_has_profile_pic', 'host_identity_verified', 'neighbourhood',\n",
       "       'neighbourhood_cleansed', 'neighbourhood_group_cleansed', 'latitude',\n",
       "       'longitude', 'property_type', 'room_type', 'accommodates', 'bathrooms',\n",
       "       'bathrooms_text', 'bedrooms', 'beds', 'amenities', 'price',\n",
       "       'minimum_nights', 'maximum_nights', 'minimum_minimum_nights',\n",
       "       'maximum_minimum_nights', 'minimum_maximum_nights',\n",
       "       'maximum_maximum_nights', 'minimum_nights_avg_ntm',\n",
       "       'maximum_nights_avg_ntm', 'calendar_updated', 'has_availability',\n",
       "       'availability_30', 'availability_60', 'availability_90',\n",
       "       'availability_365', 'calendar_last_scraped', 'number_of_reviews',\n",
       "       'number_of_reviews_ltm', 'number_of_reviews_l30d', 'first_review',\n",
       "       'last_review', 'review_scores_rating', 'review_scores_accuracy',\n",
       "       'review_scores_cleanliness', 'review_scores_checkin',\n",
       "       'review_scores_communication', 'review_scores_location',\n",
       "       'review_scores_value', 'license', 'instant_bookable',\n",
       "       'calculated_host_listings_count',\n",
       "       'calculated_host_listings_count_entire_homes',\n",
       "       'calculated_host_listings_count_private_rooms',\n",
       "       'calculated_host_listings_count_shared_rooms', 'reviews_per_month'],\n",
       "      dtype='object')"
      ]
     },
     "execution_count": 3,
     "metadata": {},
     "output_type": "execute_result"
    }
   ],
   "source": [
    "# Columns of the datasets\n",
    "raw_df_dict['aug'].columns"
   ]
  },
  {
   "cell_type": "markdown",
   "metadata": {},
   "source": [
    "# Preprocessing Data"
   ]
  },
  {
   "cell_type": "code",
   "execution_count": 4,
   "metadata": {},
   "outputs": [],
   "source": [
    "# Data from 'raw_df_dict' will be processed and stored in 'df_dict'\n",
    "df_dict = {month: pd.DataFrame() for month in months}\n",
    "\n",
    "\n",
    "# Most data are ready to use\n",
    "for month in months:\n",
    "    # Filter numerical features from the DataFrame\n",
    "    numerical_columns = raw_df_dict[month].select_dtypes(include='number').columns\n",
    "    # Drop non-relevant features\n",
    "    numerical_columns = numerical_columns.drop(['scrape_id', 'host_id'])\n",
    "    # Insert into the new DataFrame\n",
    "    df_dict[month][numerical_columns] = raw_df_dict[month][numerical_columns]\n"
   ]
  },
  {
   "cell_type": "markdown",
   "metadata": {},
   "source": [
    "## Format Fixing"
   ]
  },
  {
   "cell_type": "code",
   "execution_count": 5,
   "metadata": {},
   "outputs": [],
   "source": [
    "def host_aceptance_rate_to_numeric(rate_string):\n",
    "    \"\"\" Transforms the string type column 'host_acceptance_rate' into int type\n",
    "    INPUT\n",
    "        rate_string: string\n",
    "            contains the string type column 'host_acceptance_rate' (format example '90%')\n",
    "    OUTPUT\n",
    "        rate_numeric: int\n",
    "            contains the numeric value of 'host_acceptance_rate'\n",
    "    \"\"\"\n",
    "    try:\n",
    "        rate_numeric = int(rate_string[:-1])\n",
    "    except:\n",
    "        rate_numeric = np.nan\n",
    "    return rate_numeric"
   ]
  },
  {
   "cell_type": "code",
   "execution_count": 6,
   "metadata": {},
   "outputs": [],
   "source": [
    "def price_to_numeric(price):\n",
    "    \"\"\" Transforms the string type column 'price' into int type\n",
    "    Parameters\n",
    "    ----------\n",
    "    price : string\n",
    "            contains the price (format example '$1,000.00')\n",
    "    Returns\n",
    "    -------\n",
    "    price_numeric : int, NaN\n",
    "                    returns the numeric value of 'price'. Returns NaN if price is not a string\n",
    "    \"\"\"\n",
    "    try:\n",
    "        price_numeric = int(price[1:-3].replace(',',''))\n",
    "    except:\n",
    "        price_numeric = np.nan\n",
    "    return price_numeric"
   ]
  },
  {
   "cell_type": "code",
   "execution_count": 7,
   "metadata": {},
   "outputs": [],
   "source": [
    "def string_to_date(date_string, date_format='%Y-%m-%d'):\n",
    "    \"\"\"\" Converts string into datetime type\n",
    "    Parameters\n",
    "    ----------\n",
    "    date_string: string\n",
    "        contains the date\n",
    "    date_format: string\n",
    "        contains the format of the date\n",
    "        \n",
    "    Returns\n",
    "    -------\n",
    "    date : datetime, NaT\n",
    "           contains the date. It is NaT if date_string is NaN\n",
    "    \"\"\"\n",
    "    date = pd.to_datetime(date_string, format=date_format)\n",
    "    return date"
   ]
  },
  {
   "cell_type": "code",
   "execution_count": 8,
   "metadata": {},
   "outputs": [],
   "source": [
    "# Some numeric data are formatted as strings: 'price' and 'host_acceptance_rate'\n",
    "for month in months:    \n",
    "    # Column 'price' is string type. We store the int value.\n",
    "    df_dict[month]['price'] = raw_df_dict[month]['price'].apply(price_to_numeric) \n",
    "    \n",
    "    # Column 'host_acceptance_rate' is string type. We store the int value.\n",
    "    df_dict[month]['host_acceptance_rate'] = raw_df_dict[month]['host_acceptance_rate'].apply(host_aceptance_rate_to_numeric)    "
   ]
  },
  {
   "cell_type": "code",
   "execution_count": 9,
   "metadata": {},
   "outputs": [],
   "source": [
    "# We transform temporal variables from string to datetime type\n",
    "date_columns = ['last_scraped',\n",
    "                'host_since',\n",
    "                'calendar_last_scraped',\n",
    "                'first_review']\n",
    "\n",
    "for month in months: \n",
    "    df_dict[month][date_columns] = raw_df_dict[month][date_columns].applymap(string_to_date)"
   ]
  },
  {
   "cell_type": "markdown",
   "metadata": {},
   "source": [
    "## Encoding"
   ]
  },
  {
   "cell_type": "code",
   "execution_count": 13,
   "metadata": {},
   "outputs": [],
   "source": [
    "# Ordinal\n",
    "host_response_time_tiers = {'within an hour': 1, \n",
    "                            'within a few hours': 2,\n",
    "                            'within a day': 3,\n",
    "                            'a few days or more': 4\n",
    "                            }\n",
    "for month in months:\n",
    "    df_dict[month]['host_response_time'] = raw_df_dict[month]['host_response_time'].replace(host_response_time_tiers)"
   ]
  },
  {
   "cell_type": "code",
   "execution_count": 14,
   "metadata": {},
   "outputs": [],
   "source": [
    "# Boolean\n",
    "bool_columns = ['host_is_superhost',\n",
    "                'host_has_profile_pic',\n",
    "                'host_identity_verified',\n",
    "                'has_availability',\n",
    "                'instant_bookable']\n",
    "\n",
    "for month in months:\n",
    "    df_dict[month][bool_columns]=raw_df_dict[month][bool_columns].replace({'t': 1, 'f': 0})\n",
    "    "
   ]
  },
  {
   "cell_type": "code",
   "execution_count": 15,
   "metadata": {},
   "outputs": [],
   "source": [
    "# One-hot\n",
    "neig_columns = ['neighbourhood_cleansed','neighbourhood_group_cleansed']\n",
    "for month in months:\n",
    "    dummies = pd.get_dummies(raw_df_dict[month][neig_columns], dummy_na=False)\n",
    "    df_dict[month][dummies.columns] = dummies"
   ]
  },
  {
   "cell_type": "markdown",
   "metadata": {},
   "source": [
    "## Missing values"
   ]
  },
  {
   "cell_type": "code",
   "execution_count": 17,
   "metadata": {
    "scrolled": true
   },
   "outputs": [
    {
     "data": {
      "text/plain": [
       "<AxesSubplot:>"
      ]
     },
     "execution_count": 17,
     "metadata": {},
     "output_type": "execute_result"
    },
    {
     "data": {
      "image/png": "[encoded data removed]",
      "text/plain": [
       "<Figure size 432x288 with 2 Axes>"
      ]
     },
     "metadata": {
      "needs_background": "light"
     },
     "output_type": "display_data"
    }
   ],
   "source": [
    "sns.heatmap(df_dict['aug'].isna())"
   ]
  },
  {
   "cell_type": "code",
   "execution_count": 18,
   "metadata": {},
   "outputs": [],
   "source": [
    "for month in months:\n",
    "    # we remove any column with more than a 20% of missing values\n",
    "    df_dict[month].dropna(how='all', thresh = 0.80*df_dict[month].shape[0], axis = 1, inplace=True)\n",
    "    # after that, only a few listings have missing values\n",
    "    df_dict[month].dropna(axis=0, how='any', inplace=True)"
   ]
  },
  {
   "cell_type": "code",
   "execution_count": 19,
   "metadata": {
    "scrolled": true
   },
   "outputs": [
    {
     "data": {
      "text/plain": [
       "Index([], dtype='object')"
      ]
     },
     "execution_count": 19,
     "metadata": {},
     "output_type": "execute_result"
    }
   ],
   "source": [
    "df_dict['aug'].columns[df_dict['aug'].isna().sum()>0] # check that there isn't any NaN"
   ]
  },
  {
   "cell_type": "markdown",
   "metadata": {},
   "source": [
    "## Extra columns"
   ]
  },
  {
   "cell_type": "code",
   "execution_count": 20,
   "metadata": {},
   "outputs": [],
   "source": [
    "for month in months:    \n",
    "    # To solve the bed/accomm paradox, the number of occupants is the maximum of both    \n",
    "    df_dict[month]['capacity'] = raw_df_dict[month].apply(lambda x: np.nanmax([x['beds'], x['accommodates']]), axis = 1)\n",
    "    \n",
    "    # We also are interested in the price per guest, as it might be more relevant\n",
    "    df_dict[month]['price_person'] = df_dict[month]['price']/df_dict[month]['capacity']\n",
    "    \n",
    "    # We can distinguish between visited and non visted listings\n",
    "    df_dict[month]['had_reviews']=raw_df_dict[month]['number_of_reviews_l30d'].apply(lambda x: 0 if x==0 else 1)\n"
   ]
  },
  {
   "cell_type": "markdown",
   "metadata": {},
   "source": [
    "# Question 1: What was the impact of the pandemic on Airbnb accommodation from the second outbreak onwards?\n",
    "\n",
    "Using the daily record of infections, we can measure the impact of the pandemic in different regions of Spain. We will compare the number of infections to the monthly number of reviews, which is highly correlated to the number of visitors. In doing so, we can do some inferences about the effect on tourism.\n",
    "\n",
    "The daily record of Covid19 infections in every region of Spain can be found [here](https://cnecovid.isciii.es/covid19/#documentaci%C3%B3n-y-datos)."
   ]
  },
  {
   "cell_type": "code",
   "execution_count": 79,
   "metadata": {},
   "outputs": [],
   "source": [
    "# Dates when each dataset was created\n",
    "dates = {'aug': datetime.datetime(2020,8,1),\n",
    "         'sep': datetime.datetime(2020,9,1),\n",
    "         'oct': datetime.datetime(2020,10,1),\n",
    "         'nov': datetime.datetime(2020,11,1),\n",
    "         'dec': datetime.datetime(2020,12,1),\n",
    "         'jan': datetime.datetime(2021,1,1),\n",
    "         'feb': datetime.datetime(2021,2,1),\n",
    "         'mar': datetime.datetime(2021,3,1),\n",
    "         'apr': datetime.datetime(2021,4,1)\n",
    "              }\n",
    "date_series = pd.Series(data=dates)"
   ]
  },
  {
   "cell_type": "code",
   "execution_count": 80,
   "metadata": {},
   "outputs": [],
   "source": [
    "# We load the Covid19 contagion data in Spain\n",
    "cases_total = pd.read_csv('casos_tecnica_ccaa.csv') #covid cases in Spain\n",
    "cases_total.set_index('ccaa_iso', inplace = True)\n",
    "cases_cat = cases_total.loc['CT',['fecha','num_casos']] #covid cases in Catalonia\n",
    "cases_cat['fecha'] = [datetime.datetime.strptime(date,\"%Y-%m-%d\" ) for date in cases_cat['fecha']]\n",
    "cases_cat = cases_cat[(cases_cat['fecha']>=dates['aug']-datetime.timedelta(30))&(cases_cat['fecha']<=dates['apr'])] "
   ]
  },
  {
   "cell_type": "code",
   "execution_count": 143,
   "metadata": {},
   "outputs": [
    {
     "data": {
      "image/png": "[encoded data removed]",
      "text/plain": [
       "<Figure size 432x288 with 2 Axes>"
      ]
     },
     "metadata": {
      "needs_background": "light"
     },
     "output_type": "display_data"
    }
   ],
   "source": [
    "# List with the mean number of reviews of each month\n",
    "mean_num_reviews = [df_dict[month]['number_of_reviews_l30d'].mean() for month in months]\n",
    "y = mean_num_reviews\n",
    "\n",
    "fig, ax1 = plt.subplots()\n",
    "ax1.bar(date_series, mean_num_reviews, \n",
    "        ls='-', color = 'powderblue',\n",
    "        width=20, label = 'Reviews')\n",
    "ax1.set_xlabel('date')\n",
    "ax1.set_ylabel('No. reviews')\n",
    "ax1.set_title('No. reviews and Covid-19 cases')\n",
    "ax1.xaxis.set_tick_params(rotation = 90) \n",
    "ax1.set_ylim(ymin=0, ymax=1.5*np.nanmax(y))\n",
    "\n",
    "ax2 = ax1.twinx()\n",
    "ax2.plot_date(cases_cat['fecha'], cases_cat['num_casos'], '--',\n",
    "              xdate=True, linewidth=0.8, label='Covid', color='coral')\n",
    "ax2.set_ylabel('No. of cases')\n",
    "ax1.legend()\n",
    "\n",
    "plt.tight_layout()\n",
    "plt.savefig('q1.png', dpi=300)"
   ]
  },
  {
   "cell_type": "markdown",
   "metadata": {},
   "source": [
    "By June 2020, the first wave started to decrease, leading to a peaceful summer. But in reality, summer 2020 was nothing but the eye of the storm, and by October, a fast second wave stroke in the region.\n",
    "\n",
    "This second outbreak led to stricter traveling restrictions, which resulted in a decrease on the number of guests. By December 2020, prevalence declined to the level of the previous summer. However, this was not enough to convince travelers since the ease of restrictions took some time to appear. In addition, the uncertainty of the situation and the arrival of Christmas did not create the best scenario for traveling.\n",
    "It comes as no surprise that Christmas celebrations meant a source of contagion, and a third wave took place. The number of visitors kept growing, though, and that trend continued until April 2021.\n"
   ]
  },
  {
   "cell_type": "markdown",
   "metadata": {},
   "source": [
    "# Question 2: How did hosts react to the ever-changing circumstances?"
   ]
  },
  {
   "cell_type": "markdown",
   "metadata": {},
   "source": [
    "Given the volatile situation, one might assume that hosts would adapt their strategy. Although they have little to take control of, an expectable response is to decrease the price of the listing to make it a better competitor against their neighbors.\n"
   ]
  },
  {
   "cell_type": "code",
   "execution_count": 29,
   "metadata": {},
   "outputs": [],
   "source": [
    "visited_price = []\n",
    "empty_price = []\n",
    "for month in months:\n",
    "    visited_price.append(df_dict[month].loc[df_dict[month]['number_of_reviews_l30d']>0,'price_person'].mean())\n",
    "    empty_price.append(df_dict[month].loc[df_dict[month]['number_of_reviews_l30d']==0,'price_person'].mean())"
   ]
  },
  {
   "cell_type": "code",
   "execution_count": 133,
   "metadata": {},
   "outputs": [
    {
     "data": {
      "image/png": "[encoded data removed]",
      "text/plain": [
       "<Figure size 432x288 with 2 Axes>"
      ]
     },
     "metadata": {
      "needs_background": "light"
     },
     "output_type": "display_data"
    }
   ],
   "source": [
    "y = visited_price\n",
    "fig, ax1 = plt.subplots()\n",
    "\n",
    "ax1.set_xlabel('date')\n",
    "ax1.set_title('Price per person and Covid-19 cases')\n",
    "ax1.xaxis.set_tick_params(rotation = 90)\n",
    "ax1.bar(date_series, mean_num_reviews, color = 'powderblue',\n",
    "        width=20)\n",
    "ax1.set_ylim(ymin=0, ymax=1.2*np.nanmax(mean_num_reviews))\n",
    "ax1.set_ylabel('No. reviews')\n",
    "\n",
    "ax2 = ax1.twinx()\n",
    "ax2.plot_date(date_series, visited_price, \n",
    "              xdate=True, ls='-', color = 'coral',\n",
    "              label = 'visited')\n",
    "ax2.plot_date(date_series, empty_price, \n",
    "              xdate=True, ls='-', color = 'darkturquoise',\n",
    "              label = 'empty')\n",
    "\n",
    "ax2.set_ylim(ymin=0, ymax=1.3*np.nanmax(empty_price))\n",
    "ax2.set_ylabel('Price per person')\n",
    "ax2.legend(loc=1)\n",
    "\n",
    "\n",
    "plt.tight_layout()\n",
    "plt.savefig('q2.png', dpi=300)\n"
   ]
  },
  {
   "cell_type": "markdown",
   "metadata": {},
   "source": [
    "Some differences can be found between non-visited and visited listings\n",
    "1. Visited listings have a cheaper average price.\n",
    "2. The average price of visited listings decreased after the autumn Covid19 wave.\n",
    "3. The price of non-visited listings, instead, increased on average.\n",
    "\n",
    "\n",
    "During highly restricted period, the preference towards lower prices decreased the mean price of visited listings.\n",
    "    "
   ]
  },
  {
   "cell_type": "markdown",
   "metadata": {},
   "source": [
    "# Question 3: Which are the key success factors to attract guests in this situation?\n",
    "In other words, what can be done to keep afloat your Airbnb? "
   ]
  },
  {
   "cell_type": "code",
   "execution_count": 33,
   "metadata": {},
   "outputs": [
    {
     "data": {
      "text/plain": [
       "Index(['id', 'host_listings_count', 'host_total_listings_count', 'latitude',\n",
       "       'longitude', 'accommodates', 'bedrooms', 'beds', 'minimum_nights',\n",
       "       'maximum_nights',\n",
       "       ...\n",
       "       'neighbourhood_group_cleansed_Horta-Guinardó',\n",
       "       'neighbourhood_group_cleansed_Les Corts',\n",
       "       'neighbourhood_group_cleansed_Nou Barris',\n",
       "       'neighbourhood_group_cleansed_Sant Andreu',\n",
       "       'neighbourhood_group_cleansed_Sant Martí',\n",
       "       'neighbourhood_group_cleansed_Sants-Montjuïc',\n",
       "       'neighbourhood_group_cleansed_Sarrià-Sant Gervasi', 'capacity',\n",
       "       'price_person', 'had_reviews'],\n",
       "      dtype='object', length=121)"
      ]
     },
     "execution_count": 33,
     "metadata": {},
     "output_type": "execute_result"
    }
   ],
   "source": [
    "df_dict['jan'].columns"
   ]
  },
  {
   "cell_type": "code",
   "execution_count": 145,
   "metadata": {},
   "outputs": [],
   "source": [
    "df_comparison = df_dict['jan'].groupby('had_reviews').mean()\n",
    "df_comparison.index.name = None\n",
    "df_comparison = df_comparison.T\n",
    "df_comparison['Relative difference'] = df_comparison.apply(lambda x: 100*(x[1]-x[0])/((x[0]+x[1])/2), axis = 1) "
   ]
  },
  {
   "cell_type": "code",
   "execution_count": 30,
   "metadata": {},
   "outputs": [
    {
     "data": {
      "text/html": [
       "<div>\n",
       "<style scoped>\n",
       "    .dataframe tbody tr th:only-of-type {\n",
       "        vertical-align: middle;\n",
       "    }\n",
       "\n",
       "    .dataframe tbody tr th {\n",
       "        vertical-align: top;\n",
       "    }\n",
       "\n",
       "    .dataframe thead th {\n",
       "        text-align: right;\n",
       "    }\n",
       "</style>\n",
       "<table border=\"1\" class=\"dataframe\">\n",
       "  <thead>\n",
       "    <tr style=\"text-align: right;\">\n",
       "      <th></th>\n",
       "      <th>0</th>\n",
       "      <th>1</th>\n",
       "      <th>Relative difference</th>\n",
       "    </tr>\n",
       "  </thead>\n",
       "  <tbody>\n",
       "    <tr>\n",
       "      <th>id</th>\n",
       "      <td>2.601403e+07</td>\n",
       "      <td>2.413415e+07</td>\n",
       "      <td>-7.497297</td>\n",
       "    </tr>\n",
       "    <tr>\n",
       "      <th>host_listings_count</th>\n",
       "      <td>1.769575e+01</td>\n",
       "      <td>1.380980e+01</td>\n",
       "      <td>-24.668363</td>\n",
       "    </tr>\n",
       "    <tr>\n",
       "      <th>host_total_listings_count</th>\n",
       "      <td>1.769575e+01</td>\n",
       "      <td>1.380980e+01</td>\n",
       "      <td>-24.668363</td>\n",
       "    </tr>\n",
       "    <tr>\n",
       "      <th>latitude</th>\n",
       "      <td>4.139226e+01</td>\n",
       "      <td>4.139098e+01</td>\n",
       "      <td>-0.003091</td>\n",
       "    </tr>\n",
       "    <tr>\n",
       "      <th>longitude</th>\n",
       "      <td>2.167298e+00</td>\n",
       "      <td>2.166563e+00</td>\n",
       "      <td>-0.033929</td>\n",
       "    </tr>\n",
       "    <tr>\n",
       "      <th>...</th>\n",
       "      <td>...</td>\n",
       "      <td>...</td>\n",
       "      <td>...</td>\n",
       "    </tr>\n",
       "    <tr>\n",
       "      <th>neighbourhood_group_cleansed_Sant Martí</th>\n",
       "      <td>1.025764e-01</td>\n",
       "      <td>9.334889e-02</td>\n",
       "      <td>-9.419437</td>\n",
       "    </tr>\n",
       "    <tr>\n",
       "      <th>neighbourhood_group_cleansed_Sants-Montjuïc</th>\n",
       "      <td>1.155486e-01</td>\n",
       "      <td>9.918320e-02</td>\n",
       "      <td>-15.242659</td>\n",
       "    </tr>\n",
       "    <tr>\n",
       "      <th>neighbourhood_group_cleansed_Sarrià-Sant Gervasi</th>\n",
       "      <td>4.510240e-02</td>\n",
       "      <td>5.017503e-02</td>\n",
       "      <td>10.648132</td>\n",
       "    </tr>\n",
       "    <tr>\n",
       "      <th>capacity</th>\n",
       "      <td>3.364663e+00</td>\n",
       "      <td>3.947491e+00</td>\n",
       "      <td>15.941362</td>\n",
       "    </tr>\n",
       "    <tr>\n",
       "      <th>price_person</th>\n",
       "      <td>3.593432e+01</td>\n",
       "      <td>1.708215e+01</td>\n",
       "      <td>-71.118167</td>\n",
       "    </tr>\n",
       "  </tbody>\n",
       "</table>\n",
       "<p>117 rows × 3 columns</p>\n",
       "</div>"
      ],
      "text/plain": [
       "                                                             0             1  \\\n",
       "id                                                2.601403e+07  2.413415e+07   \n",
       "host_listings_count                               1.769575e+01  1.380980e+01   \n",
       "host_total_listings_count                         1.769575e+01  1.380980e+01   \n",
       "latitude                                          4.139226e+01  4.139098e+01   \n",
       "longitude                                         2.167298e+00  2.166563e+00   \n",
       "...                                                        ...           ...   \n",
       "neighbourhood_group_cleansed_Sant Martí           1.025764e-01  9.334889e-02   \n",
       "neighbourhood_group_cleansed_Sants-Montjuïc       1.155486e-01  9.918320e-02   \n",
       "neighbourhood_group_cleansed_Sarrià-Sant Gervasi  4.510240e-02  5.017503e-02   \n",
       "capacity                                          3.364663e+00  3.947491e+00   \n",
       "price_person                                      3.593432e+01  1.708215e+01   \n",
       "\n",
       "                                                  Relative difference  \n",
       "id                                                          -7.497297  \n",
       "host_listings_count                                        -24.668363  \n",
       "host_total_listings_count                                  -24.668363  \n",
       "latitude                                                    -0.003091  \n",
       "longitude                                                   -0.033929  \n",
       "...                                                               ...  \n",
       "neighbourhood_group_cleansed_Sant Martí                     -9.419437  \n",
       "neighbourhood_group_cleansed_Sants-Montjuïc                -15.242659  \n",
       "neighbourhood_group_cleansed_Sarrià-Sant Gervasi            10.648132  \n",
       "capacity                                                    15.941362  \n",
       "price_person                                               -71.118167  \n",
       "\n",
       "[117 rows x 3 columns]"
      ]
     },
     "execution_count": 30,
     "metadata": {},
     "output_type": "execute_result"
    }
   ],
   "source": [
    "df_comparison"
   ]
  },
  {
   "cell_type": "code",
   "execution_count": 151,
   "metadata": {
    "scrolled": true
   },
   "outputs": [
    {
     "data": {
      "image/png": "[encoded data removed]",
      "text/plain": [
       "<Figure size 432x288 with 1 Axes>"
      ]
     },
     "metadata": {
      "needs_background": "light"
     },
     "output_type": "display_data"
    }
   ],
   "source": [
    "features = ['price_person', 'capacity', 'host_listings_count', \n",
    "            'host_is_superhost', 'instant_bookable', 'host_identity_verified']\n",
    "plot_df = df_comparison.loc[features]\n",
    "plot_df.sort_values(by='Relative difference', inplace=True)\n",
    "colors = plot_df['Relative difference'].apply(lambda x: 'powderblue' if x>=0 else 'salmon')\n",
    "\n",
    "fig, ax = plt.subplots()\n",
    "ax.barh(plot_df.index, width=plot_df['Relative difference'], color=colors)\n",
    "ax.set_title('Relative difference between visited and non-visited listings')\n",
    "ax.set_xlabel('relative difference (%)')\n",
    "plt.savefig('q3.png', dpi=400, bbox_inches='tight')"
   ]
  },
  {
   "cell_type": "markdown",
   "metadata": {},
   "source": [
    "As expected, cheaper listings receive more visitors than expensive ones. This fact can be used in our favor to outsell the rest of competitors. But there is a point when the costs surpass the revenues, so this might not be an option in many cases\n",
    "On the other hand, guests also show a preference for instant bookable listings. Therefore, enabling instant bookings might be a fast and easy option to increase the number of reservations. In addition, those listings whose host is superhost and has verified its identity seem to have earn trust from guests.\n",
    "The owner of these listings usually have fewer listings, which means hotels are less appealing, arguably due to their higher price."
   ]
  }
 ],
 "metadata": {
  "interpreter": {
   "hash": "31f2aee4e71d21fbe5cf8b01ff0e069b9275f58929596ceb00d14d90e3e16cd6"
  },
  "kernelspec": {
   "display_name": "Python 3",
   "language": "python",
   "name": "python3"
  },
  "language_info": {
   "codemirror_mode": {
    "name": "ipython",
    "version": 3
   },
   "file_extension": ".py",
   "mimetype": "text/x-python",
   "name": "python",
   "nbconvert_exporter": "python",
   "pygments_lexer": "ipython3",
   "version": "3.6.9"
  }
 },
 "nbformat": 4,
 "nbformat_minor": 2
}
