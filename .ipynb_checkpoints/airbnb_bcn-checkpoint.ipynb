{
 "cells": [
  {
   "cell_type": "markdown",
   "metadata": {},
   "source": [
    "# Barcelona Airbnb 2021\n"
   ]
  },
  {
   "cell_type": "markdown",
   "metadata": {},
   "source": [
    "## Section 1: Business Understanding\n",
    "\n",
    "This project intends to evaluate the effect of the Covid19 pandemic on [Airbnb hosting prices](http://insideairbnb.com/get-the-data.html) in the city of Barcelona. We use the number of reviews as a metric for the number of tourists in the city and the number of positive cases for the prevalence of [Covid19](https://cnecovid.isciii.es/covid19/#documentaci%C3%B3n-y-datos) in the region of Catalonia.\n",
    "\n",
    "\n",
    "\n",
    "### Question 1: How was tourism affected by the Covid19 outbreak during the last months?\n",
    "### Question 2: How did the price evolved for both visited and non-visited listings?\n",
    "### Question 3: Which are the main differences between visited and non-visited listings?\n",
    "### Question 4: Which neighbourhoods had more visitors?\n",
    "\n",
    "\n",
    "Sources: [Inside Airbnb](http://insideairbnb.com/get-the-data.html), [Covid19](https://cnecovid.isciii.es/covid19/#documentaci%C3%B3n-y-datos)\n"
   ]
  },
  {
   "cell_type": "code",
   "execution_count": 1,
   "metadata": {},
   "outputs": [
    {
     "name": "stderr",
     "output_type": "stream",
     "text": [
      "In /home/jorge/.local/lib/python3.6/site-packages/matplotlib/mpl-data/stylelib/_classic_test.mplstyle: \n",
      "The text.latex.preview rcparam was deprecated in Matplotlib 3.3 and will be removed two minor releases later.\n",
      "In /home/jorge/.local/lib/python3.6/site-packages/matplotlib/mpl-data/stylelib/_classic_test.mplstyle: \n",
      "The mathtext.fallback_to_cm rcparam was deprecated in Matplotlib 3.3 and will be removed two minor releases later.\n",
      "In /home/jorge/.local/lib/python3.6/site-packages/matplotlib/mpl-data/stylelib/_classic_test.mplstyle: Support for setting the 'mathtext.fallback_to_cm' rcParam is deprecated since 3.3 and will be removed two minor releases later; use 'mathtext.fallback : 'cm' instead.\n",
      "In /home/jorge/.local/lib/python3.6/site-packages/matplotlib/mpl-data/stylelib/_classic_test.mplstyle: \n",
      "The validate_bool_maybe_none function was deprecated in Matplotlib 3.3 and will be removed two minor releases later.\n",
      "In /home/jorge/.local/lib/python3.6/site-packages/matplotlib/mpl-data/stylelib/_classic_test.mplstyle: \n",
      "The savefig.jpeg_quality rcparam was deprecated in Matplotlib 3.3 and will be removed two minor releases later.\n",
      "In /home/jorge/.local/lib/python3.6/site-packages/matplotlib/mpl-data/stylelib/_classic_test.mplstyle: \n",
      "The keymap.all_axes rcparam was deprecated in Matplotlib 3.3 and will be removed two minor releases later.\n",
      "In /home/jorge/.local/lib/python3.6/site-packages/matplotlib/mpl-data/stylelib/_classic_test.mplstyle: \n",
      "The animation.avconv_path rcparam was deprecated in Matplotlib 3.3 and will be removed two minor releases later.\n",
      "In /home/jorge/.local/lib/python3.6/site-packages/matplotlib/mpl-data/stylelib/_classic_test.mplstyle: \n",
      "The animation.avconv_args rcparam was deprecated in Matplotlib 3.3 and will be removed two minor releases later.\n"
     ]
    }
   ],
   "source": [
    "import numpy as np\n",
    "import pandas as pd\n",
    "import matplotlib\n",
    "import matplotlib.pyplot as plt\n",
    "import seaborn as sns\n",
    "import datetime\n",
    "from sklearn.preprocessing import OrdinalEncoder\n",
    "from sklearn.linear_model import LogisticRegression\n",
    "from sklearn.model_selection import train_test_split\n",
    "from sklearn.preprocessing import MinMaxScaler\n",
    "from sklearn import metrics\n",
    "from sklearn.ensemble import RandomForestClassifier\n",
    "%matplotlib inline\n",
    "\n",
    "#Fetching data. From the Airbnb source, we create a dataset dictionary with an entry for each month\n",
    "\n",
    "lsts = {'aug': pd.read_csv('./listings_aug20.csv'),\n",
    "        'sept': pd.read_csv('./listings_sept20.csv'),\n",
    "        'oct': pd.read_csv('./listings_oct20.csv'),\n",
    "        'nov': pd.read_csv('./listings_nov20.csv'),\n",
    "        'dec': pd.read_csv('./listings_nov20.csv'),\n",
    "        'jan': pd.read_csv('./listings_nov20.csv'),\n",
    "        'feb': pd.read_csv('./listings_nov20.csv'),\n",
    "        'mar': pd.read_csv('./listings_nov20.csv'),\n",
    "        'apr': pd.read_csv('./listings_nov20.csv')      \n",
    "      }\n"
   ]
  },
  {
   "cell_type": "markdown",
   "metadata": {},
   "source": [
    "## Data Exploration\n",
    "\n",
    "For the data exploration, only one dataset will be used since all of them share the same columns and have similar number of listings. Therefore, all of them will be processed equally"
   ]
  },
  {
   "cell_type": "code",
   "execution_count": 2,
   "metadata": {},
   "outputs": [
    {
     "data": {
      "text/plain": [
       "Index(['id', 'listing_url', 'scrape_id', 'last_scraped', 'name', 'description',\n",
       "       'neighborhood_overview', 'picture_url', 'host_id', 'host_url',\n",
       "       'host_name', 'host_since', 'host_location', 'host_about',\n",
       "       'host_response_time', 'host_response_rate', 'host_acceptance_rate',\n",
       "       'host_is_superhost', 'host_thumbnail_url', 'host_picture_url',\n",
       "       'host_neighbourhood', 'host_listings_count',\n",
       "       'host_total_listings_count', 'host_verifications',\n",
       "       'host_has_profile_pic', 'host_identity_verified', 'neighbourhood',\n",
       "       'neighbourhood_cleansed', 'neighbourhood_group_cleansed', 'latitude',\n",
       "       'longitude', 'property_type', 'room_type', 'accommodates', 'bathrooms',\n",
       "       'bathrooms_text', 'bedrooms', 'beds', 'amenities', 'price',\n",
       "       'minimum_nights', 'maximum_nights', 'minimum_minimum_nights',\n",
       "       'maximum_minimum_nights', 'minimum_maximum_nights',\n",
       "       'maximum_maximum_nights', 'minimum_nights_avg_ntm',\n",
       "       'maximum_nights_avg_ntm', 'calendar_updated', 'has_availability',\n",
       "       'availability_30', 'availability_60', 'availability_90',\n",
       "       'availability_365', 'calendar_last_scraped', 'number_of_reviews',\n",
       "       'number_of_reviews_ltm', 'number_of_reviews_l30d', 'first_review',\n",
       "       'last_review', 'review_scores_rating', 'review_scores_accuracy',\n",
       "       'review_scores_cleanliness', 'review_scores_checkin',\n",
       "       'review_scores_communication', 'review_scores_location',\n",
       "       'review_scores_value', 'license', 'instant_bookable',\n",
       "       'calculated_host_listings_count',\n",
       "       'calculated_host_listings_count_entire_homes',\n",
       "       'calculated_host_listings_count_private_rooms',\n",
       "       'calculated_host_listings_count_shared_rooms', 'reviews_per_month'],\n",
       "      dtype='object')"
      ]
     },
     "execution_count": 2,
     "metadata": {},
     "output_type": "execute_result"
    }
   ],
   "source": [
    "# Columns of the datasets\n",
    "lsts['sept'].columns"
   ]
  },
  {
   "cell_type": "code",
   "execution_count": 3,
   "metadata": {},
   "outputs": [
    {
     "name": "stdout",
     "output_type": "stream",
     "text": [
      "There are 20703 listings in aug\n",
      "There are 20337 listings in sept\n",
      "There are 19896 listings in oct\n",
      "There are 19896 listings in nov\n",
      "There are 19896 listings in dec\n",
      "There are 19896 listings in jan\n",
      "There are 19896 listings in feb\n",
      "There are 19896 listings in mar\n",
      "There are 19896 listings in apr\n"
     ]
    }
   ],
   "source": [
    "# Size of each dataset\n",
    "for month in lsts:\n",
    "    n_listings = lsts[month].shape[0]\n",
    "    print(f'There are {n_listings} listings in {month}')"
   ]
  },
  {
   "cell_type": "code",
   "execution_count": 4,
   "metadata": {},
   "outputs": [
    {
     "data": {
      "text/html": [
       "<div>\n",
       "<style scoped>\n",
       "    .dataframe tbody tr th:only-of-type {\n",
       "        vertical-align: middle;\n",
       "    }\n",
       "\n",
       "    .dataframe tbody tr th {\n",
       "        vertical-align: top;\n",
       "    }\n",
       "\n",
       "    .dataframe thead th {\n",
       "        text-align: right;\n",
       "    }\n",
       "</style>\n",
       "<table border=\"1\" class=\"dataframe\">\n",
       "  <thead>\n",
       "    <tr style=\"text-align: right;\">\n",
       "      <th></th>\n",
       "      <th>id</th>\n",
       "      <th>scrape_id</th>\n",
       "      <th>host_id</th>\n",
       "      <th>host_listings_count</th>\n",
       "      <th>host_total_listings_count</th>\n",
       "      <th>latitude</th>\n",
       "      <th>longitude</th>\n",
       "      <th>accommodates</th>\n",
       "      <th>bathrooms</th>\n",
       "      <th>bedrooms</th>\n",
       "      <th>...</th>\n",
       "      <th>review_scores_cleanliness</th>\n",
       "      <th>review_scores_checkin</th>\n",
       "      <th>review_scores_communication</th>\n",
       "      <th>review_scores_location</th>\n",
       "      <th>review_scores_value</th>\n",
       "      <th>calculated_host_listings_count</th>\n",
       "      <th>calculated_host_listings_count_entire_homes</th>\n",
       "      <th>calculated_host_listings_count_private_rooms</th>\n",
       "      <th>calculated_host_listings_count_shared_rooms</th>\n",
       "      <th>reviews_per_month</th>\n",
       "    </tr>\n",
       "  </thead>\n",
       "  <tbody>\n",
       "    <tr>\n",
       "      <th>count</th>\n",
       "      <td>2.033700e+04</td>\n",
       "      <td>2.033700e+04</td>\n",
       "      <td>2.033700e+04</td>\n",
       "      <td>20330.000000</td>\n",
       "      <td>20330.000000</td>\n",
       "      <td>20337.000000</td>\n",
       "      <td>20337.000000</td>\n",
       "      <td>20337.000000</td>\n",
       "      <td>0.0</td>\n",
       "      <td>19630.000000</td>\n",
       "      <td>...</td>\n",
       "      <td>14269.000000</td>\n",
       "      <td>14263.000000</td>\n",
       "      <td>14270.000000</td>\n",
       "      <td>14264.000000</td>\n",
       "      <td>14263.000000</td>\n",
       "      <td>20337.000000</td>\n",
       "      <td>20337.000000</td>\n",
       "      <td>20337.000000</td>\n",
       "      <td>20337.000000</td>\n",
       "      <td>14526.000000</td>\n",
       "    </tr>\n",
       "    <tr>\n",
       "      <th>mean</th>\n",
       "      <td>2.605306e+07</td>\n",
       "      <td>2.020091e+13</td>\n",
       "      <td>1.118821e+08</td>\n",
       "      <td>18.108854</td>\n",
       "      <td>18.108854</td>\n",
       "      <td>41.392048</td>\n",
       "      <td>2.167356</td>\n",
       "      <td>3.265575</td>\n",
       "      <td>NaN</td>\n",
       "      <td>1.599134</td>\n",
       "      <td>...</td>\n",
       "      <td>9.223842</td>\n",
       "      <td>9.557877</td>\n",
       "      <td>9.552908</td>\n",
       "      <td>9.617849</td>\n",
       "      <td>9.053495</td>\n",
       "      <td>14.762502</td>\n",
       "      <td>12.096917</td>\n",
       "      <td>2.392732</td>\n",
       "      <td>0.069528</td>\n",
       "      <td>1.148046</td>\n",
       "    </tr>\n",
       "    <tr>\n",
       "      <th>std</th>\n",
       "      <td>1.398569e+07</td>\n",
       "      <td>0.000000e+00</td>\n",
       "      <td>1.125541e+08</td>\n",
       "      <td>44.875292</td>\n",
       "      <td>44.875292</td>\n",
       "      <td>0.014797</td>\n",
       "      <td>0.017853</td>\n",
       "      <td>2.162150</td>\n",
       "      <td>NaN</td>\n",
       "      <td>0.953838</td>\n",
       "      <td>...</td>\n",
       "      <td>1.105237</td>\n",
       "      <td>0.936939</td>\n",
       "      <td>0.953453</td>\n",
       "      <td>0.794176</td>\n",
       "      <td>1.087924</td>\n",
       "      <td>30.639943</td>\n",
       "      <td>29.341251</td>\n",
       "      <td>8.985510</td>\n",
       "      <td>0.682754</td>\n",
       "      <td>1.266608</td>\n",
       "    </tr>\n",
       "    <tr>\n",
       "      <th>min</th>\n",
       "      <td>2.197400e+04</td>\n",
       "      <td>2.020091e+13</td>\n",
       "      <td>3.073000e+03</td>\n",
       "      <td>0.000000</td>\n",
       "      <td>0.000000</td>\n",
       "      <td>41.349670</td>\n",
       "      <td>2.085520</td>\n",
       "      <td>1.000000</td>\n",
       "      <td>NaN</td>\n",
       "      <td>1.000000</td>\n",
       "      <td>...</td>\n",
       "      <td>2.000000</td>\n",
       "      <td>2.000000</td>\n",
       "      <td>2.000000</td>\n",
       "      <td>2.000000</td>\n",
       "      <td>2.000000</td>\n",
       "      <td>1.000000</td>\n",
       "      <td>0.000000</td>\n",
       "      <td>0.000000</td>\n",
       "      <td>0.000000</td>\n",
       "      <td>0.010000</td>\n",
       "    </tr>\n",
       "    <tr>\n",
       "      <th>25%</th>\n",
       "      <td>1.503546e+07</td>\n",
       "      <td>2.020091e+13</td>\n",
       "      <td>9.784103e+06</td>\n",
       "      <td>1.000000</td>\n",
       "      <td>1.000000</td>\n",
       "      <td>41.380430</td>\n",
       "      <td>2.156650</td>\n",
       "      <td>2.000000</td>\n",
       "      <td>NaN</td>\n",
       "      <td>1.000000</td>\n",
       "      <td>...</td>\n",
       "      <td>9.000000</td>\n",
       "      <td>9.000000</td>\n",
       "      <td>9.000000</td>\n",
       "      <td>9.000000</td>\n",
       "      <td>9.000000</td>\n",
       "      <td>1.000000</td>\n",
       "      <td>0.000000</td>\n",
       "      <td>0.000000</td>\n",
       "      <td>0.000000</td>\n",
       "      <td>0.200000</td>\n",
       "    </tr>\n",
       "    <tr>\n",
       "      <th>50%</th>\n",
       "      <td>2.760723e+07</td>\n",
       "      <td>2.020091e+13</td>\n",
       "      <td>6.304842e+07</td>\n",
       "      <td>2.000000</td>\n",
       "      <td>2.000000</td>\n",
       "      <td>41.389070</td>\n",
       "      <td>2.168330</td>\n",
       "      <td>2.000000</td>\n",
       "      <td>NaN</td>\n",
       "      <td>1.000000</td>\n",
       "      <td>...</td>\n",
       "      <td>9.000000</td>\n",
       "      <td>10.000000</td>\n",
       "      <td>10.000000</td>\n",
       "      <td>10.000000</td>\n",
       "      <td>9.000000</td>\n",
       "      <td>3.000000</td>\n",
       "      <td>1.000000</td>\n",
       "      <td>1.000000</td>\n",
       "      <td>0.000000</td>\n",
       "      <td>0.690000</td>\n",
       "    </tr>\n",
       "    <tr>\n",
       "      <th>75%</th>\n",
       "      <td>3.908375e+07</td>\n",
       "      <td>2.020091e+13</td>\n",
       "      <td>1.994094e+08</td>\n",
       "      <td>12.000000</td>\n",
       "      <td>12.000000</td>\n",
       "      <td>41.401910</td>\n",
       "      <td>2.177930</td>\n",
       "      <td>4.000000</td>\n",
       "      <td>NaN</td>\n",
       "      <td>2.000000</td>\n",
       "      <td>...</td>\n",
       "      <td>10.000000</td>\n",
       "      <td>10.000000</td>\n",
       "      <td>10.000000</td>\n",
       "      <td>10.000000</td>\n",
       "      <td>10.000000</td>\n",
       "      <td>11.000000</td>\n",
       "      <td>7.000000</td>\n",
       "      <td>2.000000</td>\n",
       "      <td>0.000000</td>\n",
       "      <td>1.720000</td>\n",
       "    </tr>\n",
       "    <tr>\n",
       "      <th>max</th>\n",
       "      <td>4.540018e+07</td>\n",
       "      <td>2.020091e+13</td>\n",
       "      <td>3.669263e+08</td>\n",
       "      <td>435.000000</td>\n",
       "      <td>435.000000</td>\n",
       "      <td>41.470150</td>\n",
       "      <td>2.222340</td>\n",
       "      <td>16.000000</td>\n",
       "      <td>NaN</td>\n",
       "      <td>15.000000</td>\n",
       "      <td>...</td>\n",
       "      <td>10.000000</td>\n",
       "      <td>10.000000</td>\n",
       "      <td>10.000000</td>\n",
       "      <td>10.000000</td>\n",
       "      <td>10.000000</td>\n",
       "      <td>167.000000</td>\n",
       "      <td>167.000000</td>\n",
       "      <td>97.000000</td>\n",
       "      <td>12.000000</td>\n",
       "      <td>20.540000</td>\n",
       "    </tr>\n",
       "  </tbody>\n",
       "</table>\n",
       "<p>8 rows × 39 columns</p>\n",
       "</div>"
      ],
      "text/plain": [
       "                 id     scrape_id       host_id  host_listings_count  \\\n",
       "count  2.033700e+04  2.033700e+04  2.033700e+04         20330.000000   \n",
       "mean   2.605306e+07  2.020091e+13  1.118821e+08            18.108854   \n",
       "std    1.398569e+07  0.000000e+00  1.125541e+08            44.875292   \n",
       "min    2.197400e+04  2.020091e+13  3.073000e+03             0.000000   \n",
       "25%    1.503546e+07  2.020091e+13  9.784103e+06             1.000000   \n",
       "50%    2.760723e+07  2.020091e+13  6.304842e+07             2.000000   \n",
       "75%    3.908375e+07  2.020091e+13  1.994094e+08            12.000000   \n",
       "max    4.540018e+07  2.020091e+13  3.669263e+08           435.000000   \n",
       "\n",
       "       host_total_listings_count      latitude     longitude  accommodates  \\\n",
       "count               20330.000000  20337.000000  20337.000000  20337.000000   \n",
       "mean                   18.108854     41.392048      2.167356      3.265575   \n",
       "std                    44.875292      0.014797      0.017853      2.162150   \n",
       "min                     0.000000     41.349670      2.085520      1.000000   \n",
       "25%                     1.000000     41.380430      2.156650      2.000000   \n",
       "50%                     2.000000     41.389070      2.168330      2.000000   \n",
       "75%                    12.000000     41.401910      2.177930      4.000000   \n",
       "max                   435.000000     41.470150      2.222340     16.000000   \n",
       "\n",
       "       bathrooms      bedrooms  ...  review_scores_cleanliness  \\\n",
       "count        0.0  19630.000000  ...               14269.000000   \n",
       "mean         NaN      1.599134  ...                   9.223842   \n",
       "std          NaN      0.953838  ...                   1.105237   \n",
       "min          NaN      1.000000  ...                   2.000000   \n",
       "25%          NaN      1.000000  ...                   9.000000   \n",
       "50%          NaN      1.000000  ...                   9.000000   \n",
       "75%          NaN      2.000000  ...                  10.000000   \n",
       "max          NaN     15.000000  ...                  10.000000   \n",
       "\n",
       "       review_scores_checkin  review_scores_communication  \\\n",
       "count           14263.000000                 14270.000000   \n",
       "mean                9.557877                     9.552908   \n",
       "std                 0.936939                     0.953453   \n",
       "min                 2.000000                     2.000000   \n",
       "25%                 9.000000                     9.000000   \n",
       "50%                10.000000                    10.000000   \n",
       "75%                10.000000                    10.000000   \n",
       "max                10.000000                    10.000000   \n",
       "\n",
       "       review_scores_location  review_scores_value  \\\n",
       "count            14264.000000         14263.000000   \n",
       "mean                 9.617849             9.053495   \n",
       "std                  0.794176             1.087924   \n",
       "min                  2.000000             2.000000   \n",
       "25%                  9.000000             9.000000   \n",
       "50%                 10.000000             9.000000   \n",
       "75%                 10.000000            10.000000   \n",
       "max                 10.000000            10.000000   \n",
       "\n",
       "       calculated_host_listings_count  \\\n",
       "count                    20337.000000   \n",
       "mean                        14.762502   \n",
       "std                         30.639943   \n",
       "min                          1.000000   \n",
       "25%                          1.000000   \n",
       "50%                          3.000000   \n",
       "75%                         11.000000   \n",
       "max                        167.000000   \n",
       "\n",
       "       calculated_host_listings_count_entire_homes  \\\n",
       "count                                 20337.000000   \n",
       "mean                                     12.096917   \n",
       "std                                      29.341251   \n",
       "min                                       0.000000   \n",
       "25%                                       0.000000   \n",
       "50%                                       1.000000   \n",
       "75%                                       7.000000   \n",
       "max                                     167.000000   \n",
       "\n",
       "       calculated_host_listings_count_private_rooms  \\\n",
       "count                                  20337.000000   \n",
       "mean                                       2.392732   \n",
       "std                                        8.985510   \n",
       "min                                        0.000000   \n",
       "25%                                        0.000000   \n",
       "50%                                        1.000000   \n",
       "75%                                        2.000000   \n",
       "max                                       97.000000   \n",
       "\n",
       "       calculated_host_listings_count_shared_rooms  reviews_per_month  \n",
       "count                                 20337.000000       14526.000000  \n",
       "mean                                      0.069528           1.148046  \n",
       "std                                       0.682754           1.266608  \n",
       "min                                       0.000000           0.010000  \n",
       "25%                                       0.000000           0.200000  \n",
       "50%                                       0.000000           0.690000  \n",
       "75%                                       0.000000           1.720000  \n",
       "max                                      12.000000          20.540000  \n",
       "\n",
       "[8 rows x 39 columns]"
      ]
     },
     "execution_count": 4,
     "metadata": {},
     "output_type": "execute_result"
    }
   ],
   "source": [
    "lsts['sept'].describe()"
   ]
  },
  {
   "cell_type": "markdown",
   "metadata": {},
   "source": [
    "## Preprocessing Data"
   ]
  },
  {
   "cell_type": "code",
   "execution_count": 5,
   "metadata": {},
   "outputs": [],
   "source": [
    "# We set the identifier as the index for every dataframe\n",
    "for month in lsts:\n",
    "    lsts[month].set_index('id', inplace = True)"
   ]
  },
  {
   "cell_type": "code",
   "execution_count": 15,
   "metadata": {},
   "outputs": [
    {
     "data": {
      "text/plain": [
       "447"
      ]
     },
     "execution_count": 15,
     "metadata": {},
     "output_type": "execute_result"
    }
   ],
   "source": [
    "# Some listings have more beds than people that they can accommodate. \n",
    "# This might be due to hosts who did not filled the information properly\n",
    "sum(lsts['sept']['beds']-lsts['sept']['accommodates']>0)"
   ]
  },
  {
   "cell_type": "code",
   "execution_count": 12,
   "metadata": {},
   "outputs": [],
   "source": [
    "# To solve the bed/accomm paradox, the number of occupants is the maximum of both\n",
    "for key in lsts.keys():\n",
    "    lsts[key]['capacity'] = lsts[key].apply(lambda x: max(x['beds'], x['accommodates']), axis = 1)"
   ]
  },
  {
   "cell_type": "code",
   "execution_count": 16,
   "metadata": {},
   "outputs": [],
   "source": [
    "# Column 'price' is string type, whose format is '$1,000.00'. We store the int value in 'price_numeric'\n",
    "# We also are interested in the price per guest, as it might be more relevant\n",
    "for key in lsts.keys():\n",
    "    lsts[key]['price_numeric'] = lsts[key].apply(lambda x: int(x['price'][1:-3].replace(',','')),                                                  axis = 1)\n",
    "    lsts[key]['price_person'] = lsts[key].apply(lambda x: x['price_numeric']/x['capacity'],                                                           axis = 1)"
   ]
  },
  {
   "cell_type": "code",
   "execution_count": 17,
   "metadata": {},
   "outputs": [
    {
     "data": {
      "text/plain": [
       "[<matplotlib.lines.Line2D at 0x7f869a42cc50>]"
      ]
     },
     "execution_count": 17,
     "metadata": {},
     "output_type": "execute_result"
    },
    {
     "data": {
      "image/png": "[encoded data removed]",
      "text/plain": [
       "<Figure size 432x288 with 1 Axes>"
      ]
     },
     "metadata": {
      "needs_background": "light"
     },
     "output_type": "display_data"
    }
   ],
   "source": [
    "# The price distribution shows a massive variance. A small percentage of listings have an extremely high price compared to the others\n",
    "prices_feb = lsts['feb']['price_person'].sort_values().copy()\n",
    "prices_feb = prices_feb.reset_index()['price_person']\n",
    "plt.plot(prices_feb)"
   ]
  },
  {
   "cell_type": "code",
   "execution_count": 18,
   "metadata": {},
   "outputs": [],
   "source": [
    "# To avoid misleading results, these listings will be trimmed. Only the 98 percentile will remain\n",
    "for key in lsts:\n",
    "    cutoff = lsts[key]['price_person'].quantile(q=0.98)\n",
    "    lsts[key] = lsts[key][lsts[key]['price_person']<cutoff]"
   ]
  },
  {
   "cell_type": "code",
   "execution_count": 19,
   "metadata": {},
   "outputs": [],
   "source": [
    "mean_price = [lsts[key]['price_person'].mean() for key in lsts.keys()]\n",
    "mean_occu = [lsts[key]['number_of_reviews_l30d'].mean() for key in lsts.keys()]"
   ]
  },
  {
   "cell_type": "markdown",
   "metadata": {},
   "source": [
    "## Data Cleansing for modeling"
   ]
  },
  {
   "cell_type": "code",
   "execution_count": 20,
   "metadata": {},
   "outputs": [],
   "source": [
    "# We create a blank dataframe which will be filled with some columns from the original dataframe\n",
    "df = pd.DataFrame()"
   ]
  },
  {
   "cell_type": "code",
   "execution_count": 21,
   "metadata": {},
   "outputs": [],
   "source": [
    "# Our target variable for the model is a boolean variable with value 1 if the listing had any review during the last month and 0 if not\n",
    "df['had_reviews']=lsts['aug']['number_of_reviews_l30d'].apply(lambda x: 0 if x==0 else 1)\n",
    "\n",
    "# Filter numerical features from the DataFrame\n",
    "numerical_columns = lsts['aug'].columns[(lsts['aug'].dtypes==int)|(lsts['aug'].dtypes==float)]\n",
    "# Drop target feature\n",
    "numerical_columns = numerical_columns.drop(['number_of_reviews_l30d'])\n",
    "# Drop potential leaking values\n",
    "numerical_columns = numerical_columns.drop(['availability_30','availability_60','availability_90','availability_365'])\n",
    "# Drop non-relevant features\n",
    "numerical_columns = numerical_columns.drop(['scrape_id', 'host_id'])\n",
    "# Insert into the new DataFrame\n",
    "df[numerical_columns] = lsts['aug'][numerical_columns]"
   ]
  },
  {
   "cell_type": "code",
   "execution_count": 22,
   "metadata": {},
   "outputs": [
    {
     "data": {
      "text/plain": [
       "Index(['host_listings_count', 'host_total_listings_count', 'latitude',\n",
       "       'longitude', 'accommodates', 'bathrooms', 'bedrooms', 'beds',\n",
       "       'minimum_nights', 'maximum_nights', 'minimum_minimum_nights',\n",
       "       'maximum_minimum_nights', 'minimum_maximum_nights',\n",
       "       'maximum_maximum_nights', 'minimum_nights_avg_ntm',\n",
       "       'maximum_nights_avg_ntm', 'calendar_updated', 'number_of_reviews',\n",
       "       'number_of_reviews_ltm', 'review_scores_rating',\n",
       "       'review_scores_accuracy', 'review_scores_cleanliness',\n",
       "       'review_scores_checkin', 'review_scores_communication',\n",
       "       'review_scores_location', 'review_scores_value',\n",
       "       'calculated_host_listings_count',\n",
       "       'calculated_host_listings_count_entire_homes',\n",
       "       'calculated_host_listings_count_private_rooms',\n",
       "       'calculated_host_listings_count_shared_rooms', 'reviews_per_month',\n",
       "       'capacity', 'price_numeric', 'price_person'],\n",
       "      dtype='object')"
      ]
     },
     "execution_count": 22,
     "metadata": {},
     "output_type": "execute_result"
    }
   ],
   "source": [
    "numerical_columns"
   ]
  },
  {
   "cell_type": "code",
   "execution_count": 23,
   "metadata": {},
   "outputs": [
    {
     "data": {
      "text/plain": [
       "Index(['listing_url', 'last_scraped', 'name', 'description',\n",
       "       'neighborhood_overview', 'picture_url', 'host_url', 'host_name',\n",
       "       'host_since', 'host_location', 'host_about', 'host_response_time',\n",
       "       'host_response_rate', 'host_acceptance_rate', 'host_is_superhost',\n",
       "       'host_thumbnail_url', 'host_picture_url', 'host_neighbourhood',\n",
       "       'host_verifications', 'host_has_profile_pic', 'host_identity_verified',\n",
       "       'neighbourhood', 'neighbourhood_cleansed',\n",
       "       'neighbourhood_group_cleansed', 'property_type', 'room_type',\n",
       "       'bathrooms_text', 'amenities', 'price', 'has_availability',\n",
       "       'calendar_last_scraped', 'first_review', 'last_review', 'license',\n",
       "       'instant_bookable'],\n",
       "      dtype='object')"
      ]
     },
     "execution_count": 23,
     "metadata": {},
     "output_type": "execute_result"
    }
   ],
   "source": [
    "lsts['aug'].columns[lsts['aug'].dtypes==object]"
   ]
  },
  {
   "cell_type": "code",
   "execution_count": 24,
   "metadata": {},
   "outputs": [],
   "source": [
    "# let's save only those columns that might be useful\n",
    "bool_columns = ['host_is_superhost',\n",
    "                'host_has_profile_pic',\n",
    "                'host_identity_verified',\n",
    "                'has_availability',\n",
    "                'instant_bookable']\n",
    "\n",
    "# and change its value to binary\n",
    "df[bool_columns]=lsts['aug'][bool_columns].replace({'t': 1, 'f': 0})"
   ]
  },
  {
   "cell_type": "code",
   "execution_count": 25,
   "metadata": {},
   "outputs": [],
   "source": [
    "# Some variables need to be ordinally encoded\n",
    "df['host_acceptance_rate'] = lsts['aug']['host_acceptance_rate'].dropna().apply(lambda x: int(x[:-1]))\n",
    "tiers = {'within an hour': 1, 'within a few hours': 2, \n",
    " 'within a day': 3, 'a few days or more': 4}\n",
    "df['host_response_time']=lsts['aug']['host_response_time'].replace(tiers)"
   ]
  },
  {
   "cell_type": "code",
   "execution_count": 26,
   "metadata": {},
   "outputs": [],
   "source": [
    "# We transform temporal variables into int type\n",
    "date_columns = ['last_scraped',\n",
    "                'host_since',\n",
    "                'calendar_last_scraped',\n",
    "                'first_review']\n",
    "df[date_columns] = lsts['aug'][date_columns].dropna().applymap(lambda x: datetime.datetime.strptime(x, '%Y-%m-%d').toordinal())"
   ]
  },
  {
   "cell_type": "code",
   "execution_count": 27,
   "metadata": {},
   "outputs": [],
   "source": [
    "# Some variables need to be one-hot encoded\n",
    "neig_columns = ['neighbourhood_cleansed','neighbourhood_group_cleansed']\n",
    "dummies = pd.get_dummies(lsts['aug'][neig_columns], dummy_na=True)\n",
    "df[dummies.columns] = dummies"
   ]
  },
  {
   "cell_type": "code",
   "execution_count": 28,
   "metadata": {},
   "outputs": [
    {
     "data": {
      "text/plain": [
       "<AxesSubplot:ylabel='id'>"
      ]
     },
     "execution_count": 28,
     "metadata": {},
     "output_type": "execute_result"
    },
    {
     "data": {
      "image/png": "[encoded data removed]",
      "text/plain": [
       "<Figure size 432x288 with 2 Axes>"
      ]
     },
     "metadata": {
      "needs_background": "light"
     },
     "output_type": "display_data"
    }
   ],
   "source": [
    "sns.heatmap(df.isna())"
   ]
  },
  {
   "cell_type": "code",
   "execution_count": 29,
   "metadata": {},
   "outputs": [],
   "source": [
    "#both 'calendar_updates' and 'bathrooms' features are NaN\n",
    "df.dropna(axis=1, how='all', inplace=True)\n",
    "df.dropna(axis=0, how='all', inplace=True)"
   ]
  },
  {
   "cell_type": "code",
   "execution_count": 30,
   "metadata": {},
   "outputs": [],
   "source": [
    "# we also remove any column with more than a 78% of missing values\n",
    "df.dropna(how='all', thresh = 0.78*df.shape[1], inplace=True)"
   ]
  },
  {
   "cell_type": "code",
   "execution_count": 31,
   "metadata": {},
   "outputs": [],
   "source": [
    "# Some values of number of beds are missing\n",
    "# We calculate the ratio beds/bedroom, and use it for approximating the number of bedrooms \n",
    "ratio_beds_bedrooms = (df['beds']/df['bedrooms']).mean()\n",
    "df.loc[df['bedrooms'].isna(), 'bedrooms'] = df['beds'][df['bedrooms'].isna()]/ratio_beds_bedrooms \n"
   ]
  },
  {
   "cell_type": "code",
   "execution_count": 32,
   "metadata": {},
   "outputs": [],
   "source": [
    "# For the rest of the values, we simply substitute it with the mode\n",
    "na_columns = df.columns[df.isna().sum()>0]\n",
    "for column in na_columns:\n",
    "    df[column].fillna(df[column].mode()[0], inplace=True)"
   ]
  },
  {
   "cell_type": "code",
   "execution_count": 33,
   "metadata": {
    "scrolled": true
   },
   "outputs": [
    {
     "data": {
      "text/plain": [
       "Index([], dtype='object')"
      ]
     },
     "execution_count": 33,
     "metadata": {},
     "output_type": "execute_result"
    }
   ],
   "source": [
    "df.columns[df.isna().sum()>0] #check there isn't any NaN"
   ]
  },
  {
   "cell_type": "markdown",
   "metadata": {},
   "source": [
    "## Model training\n"
   ]
  },
  {
   "cell_type": "code",
   "execution_count": 34,
   "metadata": {
    "scrolled": true
   },
   "outputs": [],
   "source": [
    "X = df.drop(columns=['had_reviews'])\n",
    "y = df['had_reviews']\n",
    "X_train, X_test, y_train, y_test = train_test_split(X, y, test_size=0.25, random_state=42)"
   ]
  },
  {
   "cell_type": "code",
   "execution_count": 35,
   "metadata": {
    "scrolled": true
   },
   "outputs": [],
   "source": [
    "scaler = MinMaxScaler()\n",
    "X_train_scaled = scaler.fit_transform(X_train)\n",
    "X_test_scaled = scaler.transform(X_test)"
   ]
  },
  {
   "cell_type": "code",
   "execution_count": 36,
   "metadata": {},
   "outputs": [],
   "source": [
    "forest = RandomForestClassifier()\n",
    "forest.fit(X_train, y_train)\n",
    "y_pred = forest.predict(X_test)"
   ]
  },
  {
   "cell_type": "code",
   "execution_count": 37,
   "metadata": {
    "scrolled": true
   },
   "outputs": [
    {
     "data": {
      "text/plain": [
       "array([[4464,   48],\n",
       "       [ 300,  160]])"
      ]
     },
     "execution_count": 37,
     "metadata": {},
     "output_type": "execute_result"
    }
   ],
   "source": [
    "metrics.confusion_matrix(y_test, y_pred)"
   ]
  },
  {
   "cell_type": "markdown",
   "metadata": {},
   "source": [
    "# Question 1: How was tourism affected by the Covid19 outbreak during the last months?\n",
    "\n",
    "The daily record of Covid19 infections in every region of Spain can be found [here](https://cnecovid.isciii.es/covid19/#documentaci%C3%B3n-y-datos)."
   ]
  },
  {
   "cell_type": "code",
   "execution_count": 40,
   "metadata": {},
   "outputs": [],
   "source": [
    "# Dates when each dataset was created\n",
    "dates = {'aug': datetime.datetime(2020,8,24),\n",
    "         'sept': datetime.datetime(2020,9,12),\n",
    "         'oct': datetime.datetime(2020,10,12),\n",
    "         'nov': datetime.datetime(2020,11,6),\n",
    "         'dec': datetime.datetime(2020,12,16),\n",
    "         'jan': datetime.datetime(2021,1,12),\n",
    "         'feb': datetime.datetime(2021,2,9),\n",
    "         'mar': datetime.datetime(2021,3,5),\n",
    "         'apr': datetime.datetime(2021,4,12)\n",
    "         }\n",
    "date_series = pd.Series(data=dates)"
   ]
  },
  {
   "cell_type": "code",
   "execution_count": 41,
   "metadata": {},
   "outputs": [],
   "source": [
    "cases_total = pd.read_csv('casos_tecnica_ccaa.csv') #covid cases in Spain\n",
    "cases_total.set_index('ccaa_iso', inplace = True)\n",
    "cases_cat = cases_total.loc['CT',['fecha','num_casos']] #covid cases in Catalonia\n",
    "cases_cat['fecha'] = [datetime.datetime.strptime(date,\"%Y-%m-%d\" ) for date in cases_cat['fecha']]\n",
    "cases_cat = cases_cat[(cases_cat['fecha']>=dates['aug']-datetime.timedelta(30))&(cases_cat['fecha']<=dates['apr'])] "
   ]
  },
  {
   "cell_type": "code",
   "execution_count": 42,
   "metadata": {},
   "outputs": [],
   "source": [
    "mean_num_reviews = [lsts[key]['number_of_reviews_l30d'].mean() for key in lsts]"
   ]
  },
  {
   "cell_type": "code",
   "execution_count": 55,
   "metadata": {},
   "outputs": [
    {
     "data": {
      "text/plain": [
       "[0.16709408156081862,\n",
       " 0.1555327868852459,\n",
       " 0.12689264944726777,\n",
       " 0.10993502410396143,\n",
       " 0.10993502410396143,\n",
       " 0.10993502410396143,\n",
       " 0.10993502410396143,\n",
       " 0.10993502410396143,\n",
       " 0.10993502410396143]"
      ]
     },
     "execution_count": 55,
     "metadata": {},
     "output_type": "execute_result"
    }
   ],
   "source": [
    "mean_num_reviews"
   ]
  },
  {
   "cell_type": "code",
   "execution_count": null,
   "metadata": {},
   "outputs": [],
   "source": []
  },
  {
   "cell_type": "code",
   "execution_count": 54,
   "metadata": {},
   "outputs": [
    {
     "data": {
      "image/png": "[encoded data removed]",
      "text/plain": [
       "<Figure size 432x288 with 2 Axes>"
      ]
     },
     "metadata": {
      "needs_background": "light"
     },
     "output_type": "display_data"
    }
   ],
   "source": [
    "y = mean_num_reviews\n",
    "fig, ax1 = plt.subplots()\n",
    "ax1.plot_date(date_series-datetime.timedelta(15), y, \n",
    "              xdate=True, ls='-', color = 'tab:orange',\n",
    "              label = 'Reviews')\n",
    "ax1.set_xlabel('date')\n",
    "ax1.set_ylabel('Nº reviews')\n",
    "ax1.set_title('Nº reviews and Covid19 cases')\n",
    "ax1.xaxis.set_tick_params(rotation = 90) \n",
    "ax1.set_ylim(ymin=0, ymax=1.5*np.nanmax(y))\n",
    "\n",
    "ax2 = ax1.twinx()\n",
    "ax2.plot_date(cases_cat['fecha'], cases_cat['num_casos'], '-',\n",
    "              xdate=True, linewidth=0.6, label='Covid' )\n",
    "ax2.set_ylabel('nº of cases (uds)')\n",
    "ax1.legend()\n",
    "\n",
    "\n",
    "plt.tight_layout()"
   ]
  },
  {
   "cell_type": "markdown",
   "metadata": {},
   "source": [
    "# Question 2: How did the price evolved for both visited and non-visited listings?"
   ]
  },
  {
   "cell_type": "code",
   "execution_count": 45,
   "metadata": {},
   "outputs": [],
   "source": [
    "visited_price = []\n",
    "empty_price = []\n",
    "for key in lsts:\n",
    "    visited_price.append(lsts[key].loc[lsts[key]['number_of_reviews_l30d']>0,'price_person'].mean())\n",
    "    empty_price.append(lsts[key].loc[lsts[key]['number_of_reviews_l30d']==0,'price_person'].mean())"
   ]
  },
  {
   "cell_type": "code",
   "execution_count": 46,
   "metadata": {},
   "outputs": [
    {
     "data": {
      "image/png": "[encoded data removed]",
      "text/plain": [
       "<Figure size 432x288 with 2 Axes>"
      ]
     },
     "metadata": {
      "needs_background": "light"
     },
     "output_type": "display_data"
    }
   ],
   "source": [
    "y = visited_price\n",
    "fig, ax1 = plt.subplots()\n",
    "ax1.plot_date(date_series-datetime.timedelta(15), visited_price, \n",
    "              xdate=True, ls='-', color = 'tab:orange',\n",
    "              label = 'visited')\n",
    "ax1.plot_date(date_series-datetime.timedelta(15), empty_price, \n",
    "              xdate=True, ls='-', color = 'tab:green',\n",
    "              label = 'empty')\n",
    "ax1.set_xlabel('date')\n",
    "ax1.set_ylabel('No. reviews')\n",
    "ax1.set_title('No. reviews and Covid19 cases')\n",
    "ax1.xaxis.set_tick_params(rotation = 90) \n",
    "ax1.set_ylim(ymin=0, ymax=1.3*np.nanmax(empty_price))\n",
    "\n",
    "ax2 = ax1.twinx()\n",
    "ax2.plot_date(cases_cat['fecha'], cases_cat['num_casos'], '-',\n",
    "              xdate=True, linewidth=0.6, label='Covid' )\n",
    "ax2.set_ylabel('No. of cases')\n",
    "ax1.legend(loc=7)\n",
    "\n",
    "\n",
    "plt.tight_layout()"
   ]
  },
  {
   "cell_type": "markdown",
   "metadata": {},
   "source": [
    "\n",
    "# Question 3: Which are the main differences between visited and non-visited listings?"
   ]
  },
  {
   "cell_type": "code",
   "execution_count": 47,
   "metadata": {},
   "outputs": [],
   "source": [
    "df_comparison = df.groupby('had_reviews').mean()"
   ]
  },
  {
   "cell_type": "code",
   "execution_count": 48,
   "metadata": {},
   "outputs": [],
   "source": [
    "df_comparison.index.name = None"
   ]
  },
  {
   "cell_type": "code",
   "execution_count": 49,
   "metadata": {},
   "outputs": [],
   "source": [
    "df_comparison = df_comparison.T"
   ]
  },
  {
   "cell_type": "code",
   "execution_count": 50,
   "metadata": {},
   "outputs": [
    {
     "name": "stderr",
     "output_type": "stream",
     "text": [
      "/home/jorge/.local/lib/python3.6/site-packages/ipykernel_launcher.py:1: RuntimeWarning: invalid value encountered in double_scalars\n",
      "  \"\"\"Entry point for launching an IPython kernel.\n"
     ]
    }
   ],
   "source": [
    "df_comparison['Relative difference'] = df_comparison.apply(lambda x: 200*(x[1]-x[0])/(x[0]+x[1]), axis = 1) "
   ]
  },
  {
   "cell_type": "code",
   "execution_count": 51,
   "metadata": {
    "scrolled": true
   },
   "outputs": [
    {
     "data": {
      "image/png": "[encoded data removed]",
      "text/plain": [
       "<Figure size 432x288 with 1 Axes>"
      ]
     },
     "metadata": {
      "needs_background": "light"
     },
     "output_type": "display_data"
    }
   ],
   "source": [
    "features = ['price_person', 'capacity', 'number_of_reviews', \n",
    "            'reviews_per_month', 'host_listings_count', \n",
    "            'host_is_superhost','host_acceptance_rate', 'instant_bookable', 'host_identity_verified']\n",
    "plot_df = df_comparison.loc[features]\n",
    "plot_df.sort_values(by='Relative difference', inplace=True)\n",
    "colors = plot_df['Relative difference'].apply(lambda x: 'powderblue' if x>=0 else 'salmon')\n",
    "plt.barh(plot_df.index, width=plot_df['Relative difference'], color=colors)\n",
    "plt.show()"
   ]
  },
  {
   "cell_type": "markdown",
   "metadata": {},
   "source": [
    "# Question 4: Which neighbourhoods had more visitors?"
   ]
  },
  {
   "cell_type": "code",
   "execution_count": 52,
   "metadata": {},
   "outputs": [],
   "source": [
    "# \n",
    "neig_reviews = {key: lsts[key].groupby(by='neighbourhood_group_cleansed')['number_of_reviews_l30d'].mean() for key in lsts}\n",
    "neig_reviews = pd.DataFrame(neig_reviews)"
   ]
  },
  {
   "cell_type": "code",
   "execution_count": 53,
   "metadata": {
    "scrolled": false
   },
   "outputs": [
    {
     "data": {
      "image/png": "[encoded data removed]",
      "text/plain": [
       "<Figure size 432x288 with 1 Axes>"
      ]
     },
     "metadata": {
      "needs_background": "light"
     },
     "output_type": "display_data"
    }
   ],
   "source": [
    "fig, ax = plt.subplots()\n",
    "median = neig_reviews.mean(axis=1).median()\n",
    "colors = ['powderblue' if neig >= median else 'salmon' for neig in neig_reviews.mean(axis=1)]\n",
    "ax.bar(neig_reviews.index, neig_reviews.mean(axis = 1), color=colors)\n",
    "\n",
    "ax.xaxis.set_tick_params(rotation = -60) "
   ]
  }
 ],
 "metadata": {
  "interpreter": {
   "hash": "31f2aee4e71d21fbe5cf8b01ff0e069b9275f58929596ceb00d14d90e3e16cd6"
  },
  "kernelspec": {
   "display_name": "Python 3",
   "language": "python",
   "name": "python3"
  },
  "language_info": {
   "codemirror_mode": {
    "name": "ipython",
    "version": 3
   },
   "file_extension": ".py",
   "mimetype": "text/x-python",
   "name": "python",
   "nbconvert_exporter": "python",
   "pygments_lexer": "ipython3",
   "version": "3.6.9"
  }
 },
 "nbformat": 4,
 "nbformat_minor": 2
}
